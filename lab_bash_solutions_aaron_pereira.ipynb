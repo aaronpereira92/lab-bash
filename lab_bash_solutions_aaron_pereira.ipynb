{
 "cells": [
  {
   "cell_type": "markdown",
   "metadata": {},
   "source": [
    "1. Using the echo command print in console \"Hello World\". \n",
    "\n",
    "ALP@DESKTOP-G4UOH8O MINGW64 ~/ironhack_feb2022_da_ap (main)\n",
    "$ git clone https://github.com/aaronpereira92/lab-bash.git\n",
    "Cloning into 'lab-bash'...\n",
    "remote: Enumerating objects: 40, done.\n",
    "remote: Total 40 (delta 0), reused 0 (delta 0), pack-reused 40\n",
    "Receiving objects: 100% (40/40), 10.91 KiB | 3.64 MiB/s, done.\n",
    "Resolving deltas: 100% (14/14), done.\n",
    "\n",
    "ALP@DESKTOP-G4UOH8O MINGW64 ~/ironhack_feb2022_da_ap (main)\n",
    "$ ls\n",
    "README.md  lab-bash/\n",
    "\n",
    "ALP@DESKTOP-G4UOH8O MINGW64 ~/ironhack_feb2022_da_ap (main)\n",
    "$ cd lab-bash/\n",
    "\n",
    "ALP@DESKTOP-G4UOH8O MINGW64 ~/ironhack_feb2022_da_ap/lab-bash (master)\n",
    "$ ls\n",
    "exercices/  inputs/  lorem/  lorem-copy/  outputs/  readme.md\n",
    "\n",
    "ALP@DESKTOP-G4UOH8O MINGW64 ~/ironhack_feb2022_da_ap/lab-bash (master)\n",
    "$ echo \"Hello World\"\n",
    "Hello World\n",
    "\n"
   ]
  },
  {
   "cell_type": "markdown",
   "metadata": {},
   "source": [
    "2. Create a new directory called new_dir.\n",
    "\n",
    "ALP@DESKTOP-G4UOH8O MINGW64 ~/ironhack_feb2022_da_ap/lab-bash (master)\n",
    "$ mkdir new_dir\n",
    "\n",
    "ALP@DESKTOP-G4UOH8O MINGW64 ~/ironhack_feb2022_da_ap/lab-bash (master)\n",
    "$ ls\n",
    "exercices/  inputs/  lorem/  lorem-copy/  new_dir/  outputs/  readme.md\n",
    "\n",
    "3. Delete/Remove the directory new_dir.\n",
    "\n",
    "ALP@DESKTOP-G4UOH8O MINGW64 ~/ironhack_feb2022_da_ap/lab-bash (master)\n",
    "$ rm -rf new_dir\n",
    "\n",
    "ALP@DESKTOP-G4UOH8O MINGW64 ~/ironhack_feb2022_da_ap/lab-bash (master)\n",
    "$ ls\n",
    "exercices/  inputs/  lorem/  lorem-copy/  outputs/  readme.md\n",
    "\n",
    "4. Copy the file sed.txt from the lorem folder and paste it to the folder lorem-copy folder.\n",
    "\n",
    "ALP@DESKTOP-G4UOH8O MINGW64 ~/ironhack_feb2022_da_ap/lab-bash (master)\n",
    "$ cd lorem/\n",
    "\n",
    "ALP@DESKTOP-G4UOH8O MINGW64 ~/ironhack_feb2022_da_ap/lab-bash/lorem (master)\n",
    "$ ls\n",
    "at.txt  at.txte  lorem.txt  sed.txt\n",
    "\n",
    "ALP@DESKTOP-G4UOH8O MINGW64 ~/ironhack_feb2022_da_ap/lab-bash/lorem (master)\n",
    "$ cp sed.txt  ~/ironhack_feb2022_da_ap/lab-bash/lorem-copy/\n",
    "\n",
    "ALP@DESKTOP-G4UOH8O MINGW64 ~/ironhack_feb2022_da_ap/lab-bash/lorem (master)\n",
    "$ ls\n",
    "at.txt  at.txte  lorem.txt  sed.txt\n",
    "\n",
    "ALP@DESKTOP-G4UOH8O MINGW64 ~/ironhack_feb2022_da_ap/lab-bash/lorem (master)\n",
    "$ cd ..\n",
    "\n",
    "ALP@DESKTOP-G4UOH8O MINGW64 ~/ironhack_feb2022_da_ap/lab-bash (master)\n",
    "$ cd lorem-copy/\n",
    "\n",
    "ALP@DESKTOP-G4UOH8O MINGW64 ~/ironhack_feb2022_da_ap/lab-bash/lorem-copy (master)\n",
    "$ ls\n",
    "dummy_file.txt  sed.txt\n",
    "\n",
    "\n",
    "5. Copy the other two files from the lorem folder to lorem-copy folder in just one line using semicolon\n",
    "\n",
    "ALP@DESKTOP-G4UOH8O MINGW64 ~/ironhack_feb2022_da_ap/lab-bash/lorem (master)\n",
    "$ cp at.txt lorem.txt ~/ironhack_feb2022_da_ap/lab-bash/lorem-copy\n",
    "\n",
    "ALP@DESKTOP-G4UOH8O MINGW64 ~/ironhack_feb2022_da_ap/lab-bash/lorem (master)\n",
    "$ cd ..\n",
    "\n",
    "ALP@DESKTOP-G4UOH8O MINGW64 ~/ironhack_feb2022_da_ap/lab-bash (master)\n",
    "$ cd lorem-copy/\n",
    "\n",
    "\n",
    "ALP@DESKTOP-G4UOH8O MINGW64 ~/ironhack_feb2022_da_ap/lab-bash/lorem-copy (master)\n",
    "$ ls\n",
    "at.txt  dummy_file.txt  lorem.txt  sed.txt\n",
    "\n",
    "\n",
    "\n"
   ]
  },
  {
   "cell_type": "markdown",
   "metadata": {},
   "source": [
    "6. Show the sed.txt file content from the lorem folder.\n",
    "\n",
    "ALP@DESKTOP-G4UOH8O MINGW64 ~/ironhack_feb2022_da_ap/lab-bash/lorem (master)\n",
    "$ cat sed.txt\n",
    "Sed ut perspiciatis unde omnis iste natus error sit voluptatem accusantium doloremque laudantium,\n",
    "totam rem aperiam, eaque ipsa quae ab illo inventore veritatis et quasi architecto beatae vitae dicta sunt explicabo.\n",
    "Nemo enim ipsam voluptatem quia voluptas sit aspernatur aut odit aut fugit,\n",
    "sed quia consequuntur magni dolores eos qui ratione voluptatem sequi nesciunt.\n",
    "Neque porro quisquam est, qui dolorem ipsum quia dolor sit amet, consectetur, adipisci velit,\n",
    "sed quia non numquam eius modi tempora incidunt ut labore et dolore magnam aliquam quaerat voluptatem.\n",
    "Ut enim ad minima veniam, quis nostrum exercitationem ullam corporis suscipit laboriosam,\n",
    "nisi ut aliquid ex ea commodi consequatur? Quis autem vel eum iure reprehenderit qui in ea voluptate velit esse quam nihil molestiae consequatur,\n",
    "vel illum qui dolorem eum fugiat quo voluptas nulla pariatur?Homo homini lupus"
   ]
  },
  {
   "cell_type": "markdown",
   "metadata": {},
   "source": [
    "7. Show the at.txt file and lorem.txt file contents from lorem folder.\n",
    "\n",
    "ALP@DESKTOP-G4UOH8O MINGW64 ~/ironhack_feb2022_da_ap/lab-bash/lorem (master)\n",
    "$ cat at.txt lorem.txt\n",
    "Lorem ipsum dolor sit amet, consectetur adipiscing elit, sed do eiusmod tempor incididunt ut labore et dolore magna aliqua.\n",
    "Ut enim ad minim veniam, quis nostrud exercitation ullamco laboris nisi ut aliquip ex ea commodo consequat.\n",
    "Duis aute irure dolor in reprehenderit in voluptate velit esse cillum dolore eu fugiat nulla pariatur.\n",
    "Excepteur sint occaecat cupidatat non proident, sunt in culpa qui officia deserunt mollit anim id est laborum.Lorem ipsum dolor sit amet, consectetur adipiscing elit, sed do eiusmod tempor incididunt ut labore et dolore magna aliqua.\n",
    "Ut enim ad minim veniam, quis nostrud exercitation ullamco laboris nisi ut aliquip ex ea commodo consequat.\n",
    "Duis aute irure dolor in reprehenderit in voluptate velit esse cillum dolore eu fugiat nulla pariatur.\n",
    "Excepteur sint occaecat cup"
   ]
  },
  {
   "cell_type": "markdown",
   "metadata": {},
   "source": [
    "8. Print the first 3 rows in sed.txt file from lorem-copy folder.\n",
    "\n",
    "ALP@DESKTOP-G4UOH8O MINGW64 ~/ironhack_feb2022_da_ap/lab-bash/lorem-copy (master)\n",
    "$  head -n 3 sed.txt\n",
    "Sed ut perspiciatis unde omnis iste natus error sit voluptatem accusantium doloremque laudantium,\n",
    "totam rem aperiam, eaque ipsa quae ab illo inventore veritatis et quasi architecto beatae vitae dicta sunt explicabo.\n",
    "Nemo enim ipsam voluptatem quia voluptas sit aspernatur aut odit aut fugit,\n"
   ]
  },
  {
   "cell_type": "markdown",
   "metadata": {},
   "source": [
    "9. Print the last 3 rows in sed.txt file from lorem-copy folder.\n",
    "\n",
    "ALP@DESKTOP-G4UOH8O MINGW64 ~/ironhack_feb2022_da_ap/lab-bash/lorem-copy (master)\n",
    "$  tail -n 3 sed.txt\n",
    "Ut enim ad minima veniam, quis nostrum exercitationem ullam corporis suscipit laboriosam,\n",
    "nisi ut aliquid ex ea commodi consequatur? Quis autem vel eum iure reprehenderit qui in ea voluptate velit esse quam nihil molestiae consequatur, vel illum qui dolorem eum fugiat quo voluptas nulla pariatur?Homo homini lupus\n"
   ]
  },
  {
   "cell_type": "markdown",
   "metadata": {},
   "source": [
    "10. Add Homo homini lupus. at the end of sed.txt file in the lorem-copy folder.\n",
    "\n",
    "ALP@DESKTOP-G4UOH8O MINGW64 ~/ironhack_feb2022_da_ap/lab-bash/lorem-copy (master)\n",
    "$ echo \" Homo Homini lupus.\" >> sed.txt\n",
    "\n",
    "\n",
    "11. Print the last 3 rows in sed.txt file from lorem-copy folder. You should see Homo homini lupus..\n",
    "\n",
    "\n",
    "ALP@DESKTOP-G4UOH8O MINGW64 ~/ironhack_feb2022_da_ap/lab-bash/lorem-copy (master)\n",
    "$  tail -n 3 sed.txt\n",
    "nisi ut aliquid ex ea commodi consequatur? Quis autem vel eum iure reprehenderit qui in ea voluptate velit esse quam nihil molestiae consequatur,\n",
    "vel illum qui dolorem eum fugiat quo voluptas nulla pariatur?Homo homini lupus\n",
    " Homo Homini lupus.\n"
   ]
  },
  {
   "cell_type": "markdown",
   "metadata": {},
   "source": [
    "12. sed command is used to replace the text in a file. Use the sed command to replace all occurances of et with ET in the file at.txt file present in the folder lorem. You can use the following link to refer to sed commands [https://www.linode.com/docs/guides/manipulate-text-from-the-command-line-with-sed/] Check the contents of the sed.txt file using cat command.\n",
    "\n",
    "ALP@DESKTOP-G4UOH8O MINGW64 ~/ironhack_feb2022_da_ap/lab-bash/lorem (master)\n",
    "$ sed -i -r 's/et/ET/' at.txt\n",
    "\n",
    "ALP@DESKTOP-G4UOH8O MINGW64 ~/ironhack_feb2022_da_ap/lab-bash/lorem (master)\n",
    "$ cat at.txt\n",
    "Lorem ipsum dolor sit amET, consectetur adipiscing elit, sed do eiusmod tempor incididunt ut labore et dolore magna aliqua.\n",
    "Ut enim ad minim veniam, quis nostrud exercitation ullamco laboris nisi ut aliquip ex ea commodo consequat.\n",
    "Duis aute irure dolor in reprehenderit in voluptate velit esse cillum dolore eu fugiat nulla pariatur.\n",
    "Excepteur sint occaecat cupidatat non proident, sunt in culpa qui officia deserunt mollit anim id est laborum.\n",
    "ALP@DESKTOP-G4UOH8O MINGW64 ~/ironhack_feb2022_da_ap/lab-bash/lorem (master)\n",
    "$ sed -i -r 's/et/ET/' sed.txt\n",
    "\n",
    "ALP@DESKTOP-G4UOH8O MINGW64 ~/ironhack_feb2022_da_ap/lab-bash/lorem (master)\n",
    "$ cat sed.txt\n",
    "Sed ut perspiciatis unde omnis iste natus error sit voluptatem accusantium doloremque laudantium,\n",
    "totam rem aperiam, eaque ipsa quae ab illo inventore veritatis ET quasi architecto beatae vitae dicta sunt explicabo.\n",
    "Nemo enim ipsam voluptatem quia voluptas sit aspernatur aut odit aut fugit,\n",
    "sed quia consequuntur magni dolores eos qui ratione voluptatem sequi nesciunt.\n",
    "Neque porro quisquam est, qui dolorem ipsum quia dolor sit amET, consectetur, adipisci velit,\n",
    "sed quia non numquam eius modi tempora incidunt ut labore ET dolore magnam aliquam quaerat voluptatem.\n",
    "Ut enim ad minima veniam, quis nostrum exercitationem ullam corporis suscipit laboriosam,\n",
    "nisi ut aliquid ex ea commodi consequatur? Quis autem vel eum iure reprehenderit qui in ea voluptate velit esse quam nihil molestiae consequatur,\n",
    "vel illum qui dolorem eum fugiat quo voluptas nulla pariatur?Homo homini lupus\n"
   ]
  },
  {
   "cell_type": "markdown",
   "metadata": {},
   "source": [
    "13. Find who is the system user.\n",
    "\n",
    "ALP@DESKTOP-G4UOH8O MINGW64 ~/ironhack_feb2022_da_ap/lab-bash/lorem (master)\n",
    "$ whoami\n",
    "ALP\n"
   ]
  },
  {
   "cell_type": "markdown",
   "metadata": {},
   "source": [
    "14. Find the current path of the directory you are in.\n",
    "\n",
    "ALP@DESKTOP-G4UOH8O MINGW64 ~/ironhack_feb2022_da_ap/lab-bash/lorem (master)\n",
    "$ pwd\n",
    "/c/Users/ALP/ironhack_feb2022_da_ap/lab-bash/lorem\n"
   ]
  },
  {
   "cell_type": "markdown",
   "metadata": {},
   "source": [
    "15. List all files with the extension .txt in lorem folder.\n",
    "ALP@DESKTOP-G4UOH8O MINGW64 ~/ironhack_feb2022_da_ap/lab-bash/lorem (master)\n",
    "$ find ~/ironhack_feb2022_da_ap/lab-bash/lorem -name \"*.txt\"\n",
    "/c/Users/ALP/ironhack_feb2022_da_ap/lab-bash/lorem/at.txt\n",
    "/c/Users/ALP/ironhack_feb2022_da_ap/lab-bash/lorem/lorem.txt\n",
    "/c/Users/ALP/ironhack_feb2022_da_ap/lab-bash/lorem/sed.txt\n"
   ]
  },
  {
   "cell_type": "markdown",
   "metadata": {},
   "source": [
    "16. Count the rows in sed.txt file from lorem folder. Look concatenate cat and wc with the pipe |.\n",
    "ALP@DESKTOP-G4UOH8O MINGW64 ~/ironhack_feb2022_da_ap/lab-bash/lorem (master)\n",
    "$ cat | wc -l sed.txt\n",
    "9 sed.txt\n",
    "9 lines"
   ]
  },
  {
   "cell_type": "markdown",
   "metadata": {},
   "source": [
    "17. Count the files which start with lorem in all directories.\n",
    "Count the files which start with lorem in all directories.\n",
    "ALP@DESKTOP-G4UOH8O MINGW64 ~/ironhack_feb2022_da_ap/lab-bash (master)\n",
    "$ find ~/ironhack_feb2022_da_ap/lab-bash -name \"lorem*\"\n",
    "/c/Users/ALP/ironhack_feb2022_da_ap/lab-bash/lorem\n",
    "/c/Users/ALP/ironhack_feb2022_da_ap/lab-bash/lorem/lorem.txt\n",
    "/c/Users/ALP/ironhack_feb2022_da_ap/lab-bash/lorem-copy\n",
    "/c/Users/ALP/ironhack_feb2022_da_ap/lab-bash/lorem-copy/lorem.txt\n",
    "\n",
    "ALP@DESKTOP-G4UOH8O MINGW64 ~/ironhack_feb2022_da_ap/lab-bash (master)\n",
    "$ find . -name \"lorem*\" | wc -l\n",
    "4"
   ]
  },
  {
   "cell_type": "markdown",
   "metadata": {},
   "source": [
    "20. Store your name in a variable with read command.\n",
    "\n",
    "ALP@DESKTOP-G4UOH8O MINGW64 /c/Users/ALP/ironhack_feb2022_da_ap/lab-bash (master)\n",
    "$ name=aaron\n",
    "\n",
    "21. Print that variable.\n",
    "\n",
    "ALP@DESKTOP-G4UOH8O MINGW64 /c/Users/ALP/ironhack_feb2022_da_ap/lab-bash (master)\n",
    "$ echo $name\n",
    "aaron\n"
   ]
  },
  {
   "cell_type": "markdown",
   "metadata": {},
   "source": [
    "22. Create a new directory named with variable name.\n",
    "ALP@DESKTOP-G4UOH8O MINGW64 /c/Users/ALP/ironhack_feb2022_da_ap/lab-bash (master)\n",
    "$ mkdir $name\n",
    "\n",
    "\n",
    "ALP@DESKTOP-G4UOH8O MINGW64 /c/Users/ALP/ironhack_feb2022_da_ap/lab-bash (master)\n",
    "$ ls\n",
    "aaron/  exercices/  inputs/  lorem/  lorem-copy/  outputs/  readme.md\n",
    "\n"
   ]
  },
  {
   "cell_type": "markdown",
   "metadata": {},
   "source": [
    "23. Remove that directory.\n",
    "\n",
    "ALP@DESKTOP-G4UOH8O MINGW64 /c/Users/ALP/ironhack_feb2022_da_ap/lab-bash (master)\n",
    "$ rmdir $name\n",
    "\n",
    "ALP@DESKTOP-G4UOH8O MINGW64 /c/Users/ALP/ironhack_feb2022_da_ap/lab-bash (master)\n",
    "$ ls\n",
    "exercices/  inputs/  lorem/  lorem-copy/  outputs/  readme.md\n",
    "\n"
   ]
  }
 ],
 "metadata": {
  "kernelspec": {
   "display_name": "Python 3",
   "language": "python",
   "name": "python3"
  },
  "language_info": {
   "codemirror_mode": {
    "name": "ipython",
    "version": 3
   },
   "file_extension": ".py",
   "mimetype": "text/x-python",
   "name": "python",
   "nbconvert_exporter": "python",
   "pygments_lexer": "ipython3",
   "version": "3.7.4"
  }
 },
 "nbformat": 4,
 "nbformat_minor": 2
}
